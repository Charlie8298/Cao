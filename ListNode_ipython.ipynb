{
  "nbformat": 4,
  "nbformat_minor": 0,
  "metadata": {
    "colab": {
      "provenance": []
    },
    "kernelspec": {
      "name": "python3",
      "display_name": "Python 3"
    },
    "language_info": {
      "name": "python"
    }
  },
  "cells": [
    {
      "cell_type": "markdown",
      "source": [
        "Class List\n",
        "\n",
        "__iniT__()\n",
        "\n"
      ],
      "metadata": {
        "id": "EDldPQMZ1oFT"
      }
    },
    {
      "cell_type": "code",
      "source": [
        "class ListNode:\n",
        "  def __init__(self, val=0, next=None):\n",
        "    self.val = val\n",
        "    self.next = next"
      ],
      "metadata": {
        "id": "1HhXjCft1nnu"
      },
      "execution_count": 2,
      "outputs": []
    },
    {
      "cell_type": "markdown",
      "source": [
        "ListNode(3) 创建一个值为 3 的节点，它 next=None（没有后续）。\n",
        "\n",
        "ListNode(2, node3) 创建一个值为 2 的节点，next 指向 node3"
      ],
      "metadata": {
        "id": "4r3o_L_32tkL"
      }
    },
    {
      "cell_type": "code",
      "execution_count": 4,
      "metadata": {
        "id": "n3R_7pf8mt2z"
      },
      "outputs": [],
      "source": [
        " head = ListNode(3,ListNode(2))"
      ]
    },
    {
      "cell_type": "code",
      "source": [
        "cur = head  # 从头开始\n",
        "while cur:\n",
        "    print(cur.val, end=\" \")  # 输出每个节点的值\n",
        "    cur = cur.next  # 移动到下一个节点"
      ],
      "metadata": {
        "colab": {
          "base_uri": "https://localhost:8080/"
        },
        "id": "mPVfPfc02ve1",
        "outputId": "db78c524-bec1-474c-e03c-8100069b2def"
      },
      "execution_count": 5,
      "outputs": [
        {
          "output_type": "stream",
          "name": "stdout",
          "text": [
            "3 2 "
          ]
        }
      ]
    },
    {
      "cell_type": "markdown",
      "source": [
        "用 dummy 头节点构造链表\n",
        "\n",
        "现在你已经理解了 ListNode(-1) 是创建一个值为 -1 的节点，dummy 头节点通常用于简化链表操作，比如插入或删除节点时避免特殊情况。"
      ],
      "metadata": {
        "id": "0DhQWnbD3ELU"
      }
    },
    {
      "cell_type": "code",
      "source": [
        "dummy = ListNode(-1)  # 创建虚拟头节点\n",
        "dummy.next = ListNode(1, ListNode(2, ListNode(3)))  # 让 dummy 指向链表 1->2->3\n",
        "cur = dummy.next  # 让 cur 指向 1，跳过 dummy 进行遍历\n",
        "\n",
        "while cur:\n",
        "    print(cur.val, end=\" \")  # 输出 1 2 3\n",
        "    cur = cur.next"
      ],
      "metadata": {
        "colab": {
          "base_uri": "https://localhost:8080/"
        },
        "id": "FxzAUdXI3F14",
        "outputId": "05d35189-2a98-4520-8004-1da8d4e51ade"
      },
      "execution_count": 6,
      "outputs": [
        {
          "output_type": "stream",
          "name": "stdout",
          "text": [
            "1 2 3 "
          ]
        }
      ]
    },
    {
      "cell_type": "markdown",
      "source": [
        "#self.dummy  = ListNode(-1) 创建一个虚拟头节点\n",
        "\n",
        "##new_Node = ListNode(val, self.dummy.next),\n",
        "\n",
        "##self.dummy.next指向下一个节点\n",
        "\n"
      ],
      "metadata": {
        "id": "u52ioOG3h0cS"
      }
    },
    {
      "cell_type": "code",
      "source": [
        "class LinkedList:\n",
        "    def __init__(self):\n",
        "        self.dummy = ListNode(-1)  # 创建虚拟头节点（dummy head）\n",
        "    def insert_at_head(self, val):\n",
        "        #先插入新节点，后链接dummy.next的节点\n",
        "        new_node = ListNode(val, self.dummy.next)\n",
        "        self.dummy.next = new_node  # 修改dummy 里面的值\n",
        "    def insert_at_tail(self, val):\n",
        "        cur = self.dummy#初始化指针\n",
        "        while cur.next:  # 遍历到链表的最后一个节点\n",
        "            cur = cur.next#移动指针\n",
        "        cur.next = ListNode(val)#指向新节点\n",
        "\n",
        "    def insert_at_position(self, val, n):\n",
        "        cur = self.dummy\n",
        "        for _ in range(n - 1):\n",
        "            if cur.next is None:\n",
        "                print(\"⚠️ 位置 n 超出范围，无法插入\")\n",
        "                return\n",
        "            cur = cur.next\n",
        "        new_node = ListNode(val, cur.next)\n",
        "        cur.next = new_node  # 插入新节点\n",
        "    def print_list(self):\n",
        "        \"\"\" 打印链表 \"\"\"\n",
        "        cur = self.dummy.next  # 跳过 dummy 头节点\n",
        "        while cur:\n",
        "            print(cur.val, end=\" -> \")\n",
        "            cur = cur.next\n",
        "        print(\"None\")\n",
        "# 测试插入\n",
        "ll = LinkedList()\n",
        "ll.insert_at_head(2)  # 链表: 2\n",
        "ll.insert_at_head(1)  # 链表: 1 -> 2\n",
        "ll.insert_at_tail(4)  # 链表: 1 -> 2 -> 4\n",
        "ll.insert_at_position(3, 3)  # 插入到第 3 位置（1-based index），链表: 1 -> 2 -> 3 -> 4\n",
        "ll.print_list()  # 输出: 1 -> 2 -> 3 -> 4 -> None"
      ],
      "metadata": {
        "colab": {
          "base_uri": "https://localhost:8080/"
        },
        "id": "kddjkKu2gnVN",
        "outputId": "d156d7f5-b391-47aa-9f6f-3b677ffc8e34"
      },
      "execution_count": 8,
      "outputs": [
        {
          "output_type": "stream",
          "name": "stdout",
          "text": [
            "1 -> 2 -> 3 -> 4 -> None\n"
          ]
        }
      ]
    }
  ]
}